{
 "cells": [
  {
   "cell_type": "markdown",
   "id": "03b7c171",
   "metadata": {},
   "source": [
    "# **Swahili Question Answering (QA) System**\n",
    "\n",
    "## 🔍 **1.0 Business Understanding**\n",
    "---\n",
    "In the era of global digital transformation, access to language-based AI tools has become essential for inclusive knowledge dissemination. However, African languages, including Swahili—spoken by over 100 million people—remain underrepresented in AI advancements. There is a significant gap in question-answering (QA) systems for Swahili, which hinders educational, governmental, and healthcare access for Swahili-speaking populations. This project seeks to develop a robust QA system that can understand and answer fact-based questions in Swahili, helping bridge the digital knowledge divide for East Africa.\n",
    "\n",
    "### ⚠️ **1.1 Challenges**\n",
    "\n",
    "Key challenges include:\n",
    "\n",
    "1. Lack of large-scale annotated Swahili QA datasets\n",
    "2. Limited availability of pre-trained Swahili NLP models\n",
    "3. High resource demands for training deep learning models\n",
    "4. Linguistic complexity and variation within Swahili dialects\n",
    "5. Need for domain-specific performance (education, healthcare, governance)\n",
    "\n",
    "### 💡 **1.2 Proposed Solution**\n",
    "\n",
    "To address these challenges, we propose:\n",
    "\n",
    "1. Fine-tuning multilingual transformer models (e.g., mBERT, AfriBERTa) using Swahili datasets\n",
    "2. Utilizing data augmentation techniques such as back-translation to expand the training set\n",
    "3. Engineering linguistic features such as context-question overlap and token similarity\n",
    "4. Evaluating model performance across various question types\n",
    "5. Deploying a user-friendly web-based interface for real-time Swahili question answering\n",
    "\n",
    "### ✅ **1.3 Conclusion**\n",
    "\n",
    "By creating an intelligent QA system for Swahili, this project promotes equitable access to information and builds foundational infrastructure for AI in low-resource languages. The tool will empower Swahili speakers in education, public service, and community development through reliable, machine-generated answers to fact-based queries.\n",
    "\n",
    "### 📌 **1.4 Problem Statement**\n",
    "\n",
    "There is a lack of intelligent, real-time question-answering systems for Swahili, limiting access to structured information for millions in East Africa. As Shujaa Data Analytics, we have been contracted to develop a machine learning-based QA model that can interpret questions in Swahili and return accurate answers from a given context. The current manual processes of accessing knowledge are slow and language-restrictive, necessitating an automated, Swahili-native solution.\n",
    "\n",
    "### 🎯 **1.5 Objectives**\n",
    "\n",
    "1. To analyze question and context patterns in Swahili QA datasets\n",
    "2. To extract and engineer features (e.g., question length, context overlap) for model input\n",
    "3. To fine-tune a transformer-based model on Swahili QA data\n",
    "4. To evaluate model accuracy across different question types and linguistic structures\n",
    "5. To build and deploy a web-based interface for live QA in Swahili\n",
    "\n",
    "## 📊 **2.0 Data Understanding**\n",
    "---\n",
    "### 🌐 **2.1 Data Source**\n",
    "\n",
    "The dataset used is from KenSwQuAD, a curated Swahili QA dataset comprising 7,347 entries. It is designed to support machine learning tasks such as reading comprehension and question answering, particularly in low-resource language settings. The dataset is accessible at: KenSwQuAD GitHub (URL for illustration).\n",
    "\n",
    "### 🧾 **2.2 Column Description**\n",
    "\n",
    "Key features in the dataset include:\n",
    "\n",
    "- `Story_ID`: Unique identifier for the source passage\n",
    "- `context`: A paragraph of Swahili text providing information for the QA task\n",
    "- `question`: A fact-based question in Swahili related to the context\n",
    "- `answer`: The correct answer span within the context"
   ]
  },
  {
   "cell_type": "markdown",
   "id": "7a3dedce",
   "metadata": {},
   "source": [
    "### 📈 **2.3 Exploratory Data Analysis**\n",
    "\n",
    "Let's load the data and perform initial exploration:"
   ]
  },
  {
   "cell_type": "code",
   "execution_count": 1,
   "id": "792cdd39",
   "metadata": {},
   "outputs": [],
   "source": [
    "# import libraries\n",
    "import pandas as pd\n",
    "import numpy as np\n",
    "import re\n",
    "import ast\n",
    "import matplotlib.pyplot as plt\n",
    "%matplotlib inline\n",
    "import seaborn as sns\n",
    "#from datasets import Dataset\n",
    "from sklearn.model_selection import train_test_split\n",
    "#from transformers import AutoTokenizer, AutoModelForQuestionAnswering, TrainingArguments, Trainer\n",
    "#from transformers import pipeline\n",
    "#import evaluate"
   ]
  },
  {
   "cell_type": "code",
   "execution_count": 2,
   "id": "6eb7efce",
   "metadata": {},
   "outputs": [
    {
     "data": {
      "text/html": [
       "<div>\n",
       "<style scoped>\n",
       "    .dataframe tbody tr th:only-of-type {\n",
       "        vertical-align: middle;\n",
       "    }\n",
       "\n",
       "    .dataframe tbody tr th {\n",
       "        vertical-align: top;\n",
       "    }\n",
       "\n",
       "    .dataframe thead th {\n",
       "        text-align: right;\n",
       "    }\n",
       "</style>\n",
       "<table border=\"1\" class=\"dataframe\">\n",
       "  <thead>\n",
       "    <tr style=\"text-align: right;\">\n",
       "      <th></th>\n",
       "      <th>Unnamed: 0</th>\n",
       "      <th>Story_ID</th>\n",
       "      <th>context</th>\n",
       "      <th>question</th>\n",
       "      <th>answers</th>\n",
       "    </tr>\n",
       "  </thead>\n",
       "  <tbody>\n",
       "    <tr>\n",
       "      <th>0</th>\n",
       "      <td>0</td>\n",
       "      <td>3830_swa</td>\n",
       "      <td>MANUFAA YA KILIMO KATIKA UIMARISHAJI WA UCHUMI...</td>\n",
       "      <td>Ni katika nchi ipi kilimo ni muhimu</td>\n",
       "      <td>{'text': array(['Kenya'], dtype=object)}</td>\n",
       "    </tr>\n",
       "    <tr>\n",
       "      <th>1</th>\n",
       "      <td>1</td>\n",
       "      <td>3830_swa</td>\n",
       "      <td>MANUFAA YA KILIMO KATIKA UIMARISHAJI WA UCHUMI...</td>\n",
       "      <td>Mifugo hutupa nini</td>\n",
       "      <td>{'text': array(['mbolea'], dtype=object)}</td>\n",
       "    </tr>\n",
       "    <tr>\n",
       "      <th>2</th>\n",
       "      <td>2</td>\n",
       "      <td>3830_swa</td>\n",
       "      <td>MANUFAA YA KILIMO KATIKA UIMARISHAJI WA UCHUMI...</td>\n",
       "      <td>Asilia kubwa ya wakenya wanapenda nini</td>\n",
       "      <td>{'text': array(['Mahindi'], dtype=object)}</td>\n",
       "    </tr>\n",
       "    <tr>\n",
       "      <th>3</th>\n",
       "      <td>3</td>\n",
       "      <td>3830_swa</td>\n",
       "      <td>MANUFAA YA KILIMO KATIKA UIMARISHAJI WA UCHUMI...</td>\n",
       "      <td>Ni aslimia gani ya vifaa vinavyouzwa sokoni</td>\n",
       "      <td>{'text': array(['80%'], dtype=object)}</td>\n",
       "    </tr>\n",
       "    <tr>\n",
       "      <th>4</th>\n",
       "      <td>4</td>\n",
       "      <td>3830_swa</td>\n",
       "      <td>MANUFAA YA KILIMO KATIKA UIMARISHAJI WA UCHUMI...</td>\n",
       "      <td>Ni vipi kilimo hupunguza usafiri wa watu kutok...</td>\n",
       "      <td>{'text': array(['Kwa vile watu watajipa kazi w...</td>\n",
       "    </tr>\n",
       "  </tbody>\n",
       "</table>\n",
       "</div>"
      ],
      "text/plain": [
       "   Unnamed: 0  Story_ID                                            context  \\\n",
       "0           0  3830_swa  MANUFAA YA KILIMO KATIKA UIMARISHAJI WA UCHUMI...   \n",
       "1           1  3830_swa  MANUFAA YA KILIMO KATIKA UIMARISHAJI WA UCHUMI...   \n",
       "2           2  3830_swa  MANUFAA YA KILIMO KATIKA UIMARISHAJI WA UCHUMI...   \n",
       "3           3  3830_swa  MANUFAA YA KILIMO KATIKA UIMARISHAJI WA UCHUMI...   \n",
       "4           4  3830_swa  MANUFAA YA KILIMO KATIKA UIMARISHAJI WA UCHUMI...   \n",
       "\n",
       "                                            question  \\\n",
       "0                Ni katika nchi ipi kilimo ni muhimu   \n",
       "1                                 Mifugo hutupa nini   \n",
       "2             Asilia kubwa ya wakenya wanapenda nini   \n",
       "3        Ni aslimia gani ya vifaa vinavyouzwa sokoni   \n",
       "4  Ni vipi kilimo hupunguza usafiri wa watu kutok...   \n",
       "\n",
       "                                             answers  \n",
       "0           {'text': array(['Kenya'], dtype=object)}  \n",
       "1          {'text': array(['mbolea'], dtype=object)}  \n",
       "2         {'text': array(['Mahindi'], dtype=object)}  \n",
       "3             {'text': array(['80%'], dtype=object)}  \n",
       "4  {'text': array(['Kwa vile watu watajipa kazi w...  "
      ]
     },
     "execution_count": 2,
     "metadata": {},
     "output_type": "execute_result"
    }
   ],
   "source": [
    "# Load dataset\n",
    "df = pd.read_csv(\"data/Swahili_train.csv\")\n",
    "df.head()"
   ]
  },
  {
   "cell_type": "code",
   "execution_count": 3,
   "id": "1f65e295",
   "metadata": {},
   "outputs": [
    {
     "data": {
      "text/plain": [
       "Index(['Unnamed: 0', 'Story_ID', 'context', 'question', 'answers'], dtype='object')"
      ]
     },
     "execution_count": 3,
     "metadata": {},
     "output_type": "execute_result"
    }
   ],
   "source": [
    "# Display columns\n",
    "df.columns"
   ]
  },
  {
   "cell_type": "code",
   "execution_count": 4,
   "id": "75b70091",
   "metadata": {},
   "outputs": [
    {
     "data": {
      "text/html": [
       "<div>\n",
       "<style scoped>\n",
       "    .dataframe tbody tr th:only-of-type {\n",
       "        vertical-align: middle;\n",
       "    }\n",
       "\n",
       "    .dataframe tbody tr th {\n",
       "        vertical-align: top;\n",
       "    }\n",
       "\n",
       "    .dataframe thead th {\n",
       "        text-align: right;\n",
       "    }\n",
       "</style>\n",
       "<table border=\"1\" class=\"dataframe\">\n",
       "  <thead>\n",
       "    <tr style=\"text-align: right;\">\n",
       "      <th></th>\n",
       "      <th>Story_ID</th>\n",
       "      <th>context</th>\n",
       "      <th>question</th>\n",
       "      <th>answers</th>\n",
       "    </tr>\n",
       "  </thead>\n",
       "  <tbody>\n",
       "    <tr>\n",
       "      <th>0</th>\n",
       "      <td>3830_swa</td>\n",
       "      <td>MANUFAA YA KILIMO KATIKA UIMARISHAJI WA UCHUMI...</td>\n",
       "      <td>Ni katika nchi ipi kilimo ni muhimu</td>\n",
       "      <td>{'text': array(['Kenya'], dtype=object)}</td>\n",
       "    </tr>\n",
       "    <tr>\n",
       "      <th>1</th>\n",
       "      <td>3830_swa</td>\n",
       "      <td>MANUFAA YA KILIMO KATIKA UIMARISHAJI WA UCHUMI...</td>\n",
       "      <td>Mifugo hutupa nini</td>\n",
       "      <td>{'text': array(['mbolea'], dtype=object)}</td>\n",
       "    </tr>\n",
       "    <tr>\n",
       "      <th>2</th>\n",
       "      <td>3830_swa</td>\n",
       "      <td>MANUFAA YA KILIMO KATIKA UIMARISHAJI WA UCHUMI...</td>\n",
       "      <td>Asilia kubwa ya wakenya wanapenda nini</td>\n",
       "      <td>{'text': array(['Mahindi'], dtype=object)}</td>\n",
       "    </tr>\n",
       "    <tr>\n",
       "      <th>3</th>\n",
       "      <td>3830_swa</td>\n",
       "      <td>MANUFAA YA KILIMO KATIKA UIMARISHAJI WA UCHUMI...</td>\n",
       "      <td>Ni aslimia gani ya vifaa vinavyouzwa sokoni</td>\n",
       "      <td>{'text': array(['80%'], dtype=object)}</td>\n",
       "    </tr>\n",
       "    <tr>\n",
       "      <th>4</th>\n",
       "      <td>3830_swa</td>\n",
       "      <td>MANUFAA YA KILIMO KATIKA UIMARISHAJI WA UCHUMI...</td>\n",
       "      <td>Ni vipi kilimo hupunguza usafiri wa watu kutok...</td>\n",
       "      <td>{'text': array(['Kwa vile watu watajipa kazi w...</td>\n",
       "    </tr>\n",
       "  </tbody>\n",
       "</table>\n",
       "</div>"
      ],
      "text/plain": [
       "   Story_ID                                            context  \\\n",
       "0  3830_swa  MANUFAA YA KILIMO KATIKA UIMARISHAJI WA UCHUMI...   \n",
       "1  3830_swa  MANUFAA YA KILIMO KATIKA UIMARISHAJI WA UCHUMI...   \n",
       "2  3830_swa  MANUFAA YA KILIMO KATIKA UIMARISHAJI WA UCHUMI...   \n",
       "3  3830_swa  MANUFAA YA KILIMO KATIKA UIMARISHAJI WA UCHUMI...   \n",
       "4  3830_swa  MANUFAA YA KILIMO KATIKA UIMARISHAJI WA UCHUMI...   \n",
       "\n",
       "                                            question  \\\n",
       "0                Ni katika nchi ipi kilimo ni muhimu   \n",
       "1                                 Mifugo hutupa nini   \n",
       "2             Asilia kubwa ya wakenya wanapenda nini   \n",
       "3        Ni aslimia gani ya vifaa vinavyouzwa sokoni   \n",
       "4  Ni vipi kilimo hupunguza usafiri wa watu kutok...   \n",
       "\n",
       "                                             answers  \n",
       "0           {'text': array(['Kenya'], dtype=object)}  \n",
       "1          {'text': array(['mbolea'], dtype=object)}  \n",
       "2         {'text': array(['Mahindi'], dtype=object)}  \n",
       "3             {'text': array(['80%'], dtype=object)}  \n",
       "4  {'text': array(['Kwa vile watu watajipa kazi w...  "
      ]
     },
     "execution_count": 4,
     "metadata": {},
     "output_type": "execute_result"
    }
   ],
   "source": [
    "# Remove extra unnamed columns\n",
    "df.drop(columns='Unnamed: 0', inplace=True)\n",
    "df.head()"
   ]
  },
  {
   "cell_type": "code",
   "execution_count": 5,
   "id": "2f50d6aa",
   "metadata": {},
   "outputs": [
    {
     "data": {
      "text/plain": [
       "(7347, 4)"
      ]
     },
     "execution_count": 5,
     "metadata": {},
     "output_type": "execute_result"
    }
   ],
   "source": [
    "\n",
    "#Display shape of dataset\n",
    "df.shape"
   ]
  },
  {
   "cell_type": "code",
   "execution_count": 6,
   "id": "87436b14",
   "metadata": {},
   "outputs": [
    {
     "name": "stdout",
     "output_type": "stream",
     "text": [
      "<class 'pandas.core.frame.DataFrame'>\n",
      "RangeIndex: 7347 entries, 0 to 7346\n",
      "Data columns (total 4 columns):\n",
      " #   Column    Non-Null Count  Dtype \n",
      "---  ------    --------------  ----- \n",
      " 0   Story_ID  7347 non-null   object\n",
      " 1   context   7347 non-null   object\n",
      " 2   question  7347 non-null   object\n",
      " 3   answers   7347 non-null   object\n",
      "dtypes: object(4)\n",
      "memory usage: 229.7+ KB\n"
     ]
    }
   ],
   "source": [
    "# Examine Summary of the dataset\n",
    "df.info()"
   ]
  },
  {
   "cell_type": "code",
   "execution_count": 7,
   "id": "2b436d6c",
   "metadata": {},
   "outputs": [
    {
     "data": {
      "text/plain": [
       "9"
      ]
     },
     "execution_count": 7,
     "metadata": {},
     "output_type": "execute_result"
    }
   ],
   "source": [
    "df.duplicated(subset=[col for col in df.columns if col != 'answers']).sum()"
   ]
  },
  {
   "cell_type": "code",
   "execution_count": 8,
   "id": "cbf1b546",
   "metadata": {},
   "outputs": [
    {
     "data": {
      "text/html": [
       "<div>\n",
       "<style scoped>\n",
       "    .dataframe tbody tr th:only-of-type {\n",
       "        vertical-align: middle;\n",
       "    }\n",
       "\n",
       "    .dataframe tbody tr th {\n",
       "        vertical-align: top;\n",
       "    }\n",
       "\n",
       "    .dataframe thead th {\n",
       "        text-align: right;\n",
       "    }\n",
       "</style>\n",
       "<table border=\"1\" class=\"dataframe\">\n",
       "  <thead>\n",
       "    <tr style=\"text-align: right;\">\n",
       "      <th></th>\n",
       "      <th>Story_ID</th>\n",
       "      <th>context</th>\n",
       "      <th>question</th>\n",
       "      <th>answers</th>\n",
       "    </tr>\n",
       "  </thead>\n",
       "  <tbody>\n",
       "    <tr>\n",
       "      <th>0</th>\n",
       "      <td>3830_swa</td>\n",
       "      <td>MANUFAA YA KILIMO KATIKA UIMARISHAJI WA UCHUMI...</td>\n",
       "      <td>Ni katika nchi ipi kilimo ni muhimu</td>\n",
       "      <td>{'text': ['Kenya']}</td>\n",
       "    </tr>\n",
       "    <tr>\n",
       "      <th>1</th>\n",
       "      <td>3830_swa</td>\n",
       "      <td>MANUFAA YA KILIMO KATIKA UIMARISHAJI WA UCHUMI...</td>\n",
       "      <td>Mifugo hutupa nini</td>\n",
       "      <td>{'text': ['mbolea']}</td>\n",
       "    </tr>\n",
       "    <tr>\n",
       "      <th>2</th>\n",
       "      <td>3830_swa</td>\n",
       "      <td>MANUFAA YA KILIMO KATIKA UIMARISHAJI WA UCHUMI...</td>\n",
       "      <td>Asilia kubwa ya wakenya wanapenda nini</td>\n",
       "      <td>{'text': ['Mahindi']}</td>\n",
       "    </tr>\n",
       "    <tr>\n",
       "      <th>3</th>\n",
       "      <td>3830_swa</td>\n",
       "      <td>MANUFAA YA KILIMO KATIKA UIMARISHAJI WA UCHUMI...</td>\n",
       "      <td>Ni aslimia gani ya vifaa vinavyouzwa sokoni</td>\n",
       "      <td>{'text': ['80%']}</td>\n",
       "    </tr>\n",
       "    <tr>\n",
       "      <th>4</th>\n",
       "      <td>3830_swa</td>\n",
       "      <td>MANUFAA YA KILIMO KATIKA UIMARISHAJI WA UCHUMI...</td>\n",
       "      <td>Ni vipi kilimo hupunguza usafiri wa watu kutok...</td>\n",
       "      <td>{'text': ['Kwa vile watu watajipa kazi wenyewe']}</td>\n",
       "    </tr>\n",
       "  </tbody>\n",
       "</table>\n",
       "</div>"
      ],
      "text/plain": [
       "   Story_ID                                            context  \\\n",
       "0  3830_swa  MANUFAA YA KILIMO KATIKA UIMARISHAJI WA UCHUMI...   \n",
       "1  3830_swa  MANUFAA YA KILIMO KATIKA UIMARISHAJI WA UCHUMI...   \n",
       "2  3830_swa  MANUFAA YA KILIMO KATIKA UIMARISHAJI WA UCHUMI...   \n",
       "3  3830_swa  MANUFAA YA KILIMO KATIKA UIMARISHAJI WA UCHUMI...   \n",
       "4  3830_swa  MANUFAA YA KILIMO KATIKA UIMARISHAJI WA UCHUMI...   \n",
       "\n",
       "                                            question  \\\n",
       "0                Ni katika nchi ipi kilimo ni muhimu   \n",
       "1                                 Mifugo hutupa nini   \n",
       "2             Asilia kubwa ya wakenya wanapenda nini   \n",
       "3        Ni aslimia gani ya vifaa vinavyouzwa sokoni   \n",
       "4  Ni vipi kilimo hupunguza usafiri wa watu kutok...   \n",
       "\n",
       "                                             answers  \n",
       "0                                {'text': ['Kenya']}  \n",
       "1                               {'text': ['mbolea']}  \n",
       "2                              {'text': ['Mahindi']}  \n",
       "3                                  {'text': ['80%']}  \n",
       "4  {'text': ['Kwa vile watu watajipa kazi wenyewe']}  "
      ]
     },
     "execution_count": 8,
     "metadata": {},
     "output_type": "execute_result"
    }
   ],
   "source": [
    "# Convert string in 'answers' column to Python dict\n",
    "def clean_array_string(s):\n",
    "    # Replace NumPy-style arrays with Python lists: e.g. array(['Kenya'], dtype=object) → ['Kenya']\n",
    "    s = re.sub(r\"array\\((\\[.*?\\])\\s*,\\s*dtype=object\\)\", r\"\\1\", s)\n",
    "    return ast.literal_eval(s)\n",
    "\n",
    "\n",
    "df['answers'] = df['answers'].astype(str).apply(clean_array_string)\n",
    "df.head()"
   ]
  },
  {
   "cell_type": "code",
   "execution_count": 9,
   "id": "99f8fd05",
   "metadata": {},
   "outputs": [
    {
     "data": {
      "text/plain": [
       "True    7347\n",
       "Name: answers, dtype: int64"
      ]
     },
     "execution_count": 9,
     "metadata": {},
     "output_type": "execute_result"
    }
   ],
   "source": [
    "# Check structure of cleaned answer feature\n",
    "df['answers'].apply(lambda x: isinstance(x, dict) and 'text' in x).value_counts()\n"
   ]
  },
  {
   "cell_type": "code",
   "execution_count": 10,
   "id": "2e82a473",
   "metadata": {},
   "outputs": [
    {
     "data": {
      "text/plain": [
       "3830_swa    13\n",
       "3213_swa    12\n",
       "3252_swa    10\n",
       "5199_swa    10\n",
       "3211_swa    10\n",
       "            ..\n",
       "4807_swa     5\n",
       "4777_swa     5\n",
       "1528_swa     5\n",
       "3174_swa     5\n",
       "2924_swa     5\n",
       "Name: Story_ID, Length: 1410, dtype: int64"
      ]
     },
     "execution_count": 10,
     "metadata": {},
     "output_type": "execute_result"
    }
   ],
   "source": [
    "# Display unique stories\n",
    "df['Story_ID'].value_counts()"
   ]
  },
  {
   "cell_type": "code",
   "execution_count": 11,
   "id": "d8d4398b",
   "metadata": {},
   "outputs": [
    {
     "data": {
      "text/html": [
       "<div>\n",
       "<style scoped>\n",
       "    .dataframe tbody tr th:only-of-type {\n",
       "        vertical-align: middle;\n",
       "    }\n",
       "\n",
       "    .dataframe tbody tr th {\n",
       "        vertical-align: top;\n",
       "    }\n",
       "\n",
       "    .dataframe thead th {\n",
       "        text-align: right;\n",
       "    }\n",
       "</style>\n",
       "<table border=\"1\" class=\"dataframe\">\n",
       "  <thead>\n",
       "    <tr style=\"text-align: right;\">\n",
       "      <th></th>\n",
       "      <th>Story_ID</th>\n",
       "      <th>context</th>\n",
       "      <th>question</th>\n",
       "      <th>answers</th>\n",
       "      <th>context_length</th>\n",
       "      <th>question_length</th>\n",
       "      <th>answer_length</th>\n",
       "      <th>overlap</th>\n",
       "    </tr>\n",
       "  </thead>\n",
       "  <tbody>\n",
       "    <tr>\n",
       "      <th>0</th>\n",
       "      <td>3830_swa</td>\n",
       "      <td>MANUFAA YA KILIMO KATIKA UIMARISHAJI WA UCHUMI...</td>\n",
       "      <td>Ni katika nchi ipi kilimo ni muhimu</td>\n",
       "      <td>{'text': ['Kenya']}</td>\n",
       "      <td>361</td>\n",
       "      <td>7</td>\n",
       "      <td>1</td>\n",
       "      <td>6</td>\n",
       "    </tr>\n",
       "    <tr>\n",
       "      <th>1</th>\n",
       "      <td>3830_swa</td>\n",
       "      <td>MANUFAA YA KILIMO KATIKA UIMARISHAJI WA UCHUMI...</td>\n",
       "      <td>Mifugo hutupa nini</td>\n",
       "      <td>{'text': ['mbolea']}</td>\n",
       "      <td>361</td>\n",
       "      <td>3</td>\n",
       "      <td>1</td>\n",
       "      <td>2</td>\n",
       "    </tr>\n",
       "    <tr>\n",
       "      <th>2</th>\n",
       "      <td>3830_swa</td>\n",
       "      <td>MANUFAA YA KILIMO KATIKA UIMARISHAJI WA UCHUMI...</td>\n",
       "      <td>Asilia kubwa ya wakenya wanapenda nini</td>\n",
       "      <td>{'text': ['Mahindi']}</td>\n",
       "      <td>361</td>\n",
       "      <td>6</td>\n",
       "      <td>1</td>\n",
       "      <td>3</td>\n",
       "    </tr>\n",
       "    <tr>\n",
       "      <th>3</th>\n",
       "      <td>3830_swa</td>\n",
       "      <td>MANUFAA YA KILIMO KATIKA UIMARISHAJI WA UCHUMI...</td>\n",
       "      <td>Ni aslimia gani ya vifaa vinavyouzwa sokoni</td>\n",
       "      <td>{'text': ['80%']}</td>\n",
       "      <td>361</td>\n",
       "      <td>7</td>\n",
       "      <td>1</td>\n",
       "      <td>4</td>\n",
       "    </tr>\n",
       "    <tr>\n",
       "      <th>4</th>\n",
       "      <td>3830_swa</td>\n",
       "      <td>MANUFAA YA KILIMO KATIKA UIMARISHAJI WA UCHUMI...</td>\n",
       "      <td>Ni vipi kilimo hupunguza usafiri wa watu kutok...</td>\n",
       "      <td>{'text': ['Kwa vile watu watajipa kazi wenyewe']}</td>\n",
       "      <td>361</td>\n",
       "      <td>9</td>\n",
       "      <td>6</td>\n",
       "      <td>6</td>\n",
       "    </tr>\n",
       "  </tbody>\n",
       "</table>\n",
       "</div>"
      ],
      "text/plain": [
       "   Story_ID                                            context  \\\n",
       "0  3830_swa  MANUFAA YA KILIMO KATIKA UIMARISHAJI WA UCHUMI...   \n",
       "1  3830_swa  MANUFAA YA KILIMO KATIKA UIMARISHAJI WA UCHUMI...   \n",
       "2  3830_swa  MANUFAA YA KILIMO KATIKA UIMARISHAJI WA UCHUMI...   \n",
       "3  3830_swa  MANUFAA YA KILIMO KATIKA UIMARISHAJI WA UCHUMI...   \n",
       "4  3830_swa  MANUFAA YA KILIMO KATIKA UIMARISHAJI WA UCHUMI...   \n",
       "\n",
       "                                            question  \\\n",
       "0                Ni katika nchi ipi kilimo ni muhimu   \n",
       "1                                 Mifugo hutupa nini   \n",
       "2             Asilia kubwa ya wakenya wanapenda nini   \n",
       "3        Ni aslimia gani ya vifaa vinavyouzwa sokoni   \n",
       "4  Ni vipi kilimo hupunguza usafiri wa watu kutok...   \n",
       "\n",
       "                                             answers  context_length  \\\n",
       "0                                {'text': ['Kenya']}             361   \n",
       "1                               {'text': ['mbolea']}             361   \n",
       "2                              {'text': ['Mahindi']}             361   \n",
       "3                                  {'text': ['80%']}             361   \n",
       "4  {'text': ['Kwa vile watu watajipa kazi wenyewe']}             361   \n",
       "\n",
       "   question_length  answer_length  overlap  \n",
       "0                7              1        6  \n",
       "1                3              1        2  \n",
       "2                6              1        3  \n",
       "3                7              1        4  \n",
       "4                9              6        6  "
      ]
     },
     "execution_count": 11,
     "metadata": {},
     "output_type": "execute_result"
    }
   ],
   "source": [
    "# Add features\n",
    "# Token count per context, question, answer\n",
    "df['context_length'] = df['context'].apply(lambda x: len(x.split()))\n",
    "df['question_length'] = df['question'].apply(lambda x: len(x.split()))\n",
    "df['answer_length'] = df['answers'].apply(lambda x: len(x['text'][0].split()))\n",
    "\n",
    "# how many words in the question are found in the context\n",
    "df['overlap'] = df.apply(lambda row: sum([1 for w in row['question'].split() if w in row['context'].split()]), axis=1)\n",
    "df.head()"
   ]
  },
  {
   "cell_type": "code",
   "execution_count": 12,
   "id": "b34050cc",
   "metadata": {},
   "outputs": [
    {
     "data": {
      "text/html": [
       "<div>\n",
       "<style scoped>\n",
       "    .dataframe tbody tr th:only-of-type {\n",
       "        vertical-align: middle;\n",
       "    }\n",
       "\n",
       "    .dataframe tbody tr th {\n",
       "        vertical-align: top;\n",
       "    }\n",
       "\n",
       "    .dataframe thead th {\n",
       "        text-align: right;\n",
       "    }\n",
       "</style>\n",
       "<table border=\"1\" class=\"dataframe\">\n",
       "  <thead>\n",
       "    <tr style=\"text-align: right;\">\n",
       "      <th></th>\n",
       "      <th>context_length</th>\n",
       "      <th>question_length</th>\n",
       "      <th>answer_length</th>\n",
       "      <th>overlap</th>\n",
       "    </tr>\n",
       "  </thead>\n",
       "  <tbody>\n",
       "    <tr>\n",
       "      <th>count</th>\n",
       "      <td>7347.000000</td>\n",
       "      <td>7347.000000</td>\n",
       "      <td>7347.000000</td>\n",
       "      <td>7347.000000</td>\n",
       "    </tr>\n",
       "    <tr>\n",
       "      <th>mean</th>\n",
       "      <td>402.879270</td>\n",
       "      <td>6.280795</td>\n",
       "      <td>2.297673</td>\n",
       "      <td>3.544440</td>\n",
       "    </tr>\n",
       "    <tr>\n",
       "      <th>std</th>\n",
       "      <td>240.518781</td>\n",
       "      <td>2.030858</td>\n",
       "      <td>2.057967</td>\n",
       "      <td>2.033889</td>\n",
       "    </tr>\n",
       "    <tr>\n",
       "      <th>min</th>\n",
       "      <td>75.000000</td>\n",
       "      <td>2.000000</td>\n",
       "      <td>1.000000</td>\n",
       "      <td>0.000000</td>\n",
       "    </tr>\n",
       "    <tr>\n",
       "      <th>25%</th>\n",
       "      <td>246.000000</td>\n",
       "      <td>5.000000</td>\n",
       "      <td>1.000000</td>\n",
       "      <td>2.000000</td>\n",
       "    </tr>\n",
       "    <tr>\n",
       "      <th>50%</th>\n",
       "      <td>338.000000</td>\n",
       "      <td>6.000000</td>\n",
       "      <td>1.000000</td>\n",
       "      <td>3.000000</td>\n",
       "    </tr>\n",
       "    <tr>\n",
       "      <th>75%</th>\n",
       "      <td>478.000000</td>\n",
       "      <td>8.000000</td>\n",
       "      <td>3.000000</td>\n",
       "      <td>5.000000</td>\n",
       "    </tr>\n",
       "    <tr>\n",
       "      <th>max</th>\n",
       "      <td>1583.000000</td>\n",
       "      <td>18.000000</td>\n",
       "      <td>18.000000</td>\n",
       "      <td>17.000000</td>\n",
       "    </tr>\n",
       "  </tbody>\n",
       "</table>\n",
       "</div>"
      ],
      "text/plain": [
       "       context_length  question_length  answer_length      overlap\n",
       "count     7347.000000      7347.000000    7347.000000  7347.000000\n",
       "mean       402.879270         6.280795       2.297673     3.544440\n",
       "std        240.518781         2.030858       2.057967     2.033889\n",
       "min         75.000000         2.000000       1.000000     0.000000\n",
       "25%        246.000000         5.000000       1.000000     2.000000\n",
       "50%        338.000000         6.000000       1.000000     3.000000\n",
       "75%        478.000000         8.000000       3.000000     5.000000\n",
       "max       1583.000000        18.000000      18.000000    17.000000"
      ]
     },
     "execution_count": 12,
     "metadata": {},
     "output_type": "execute_result"
    }
   ],
   "source": [
    "df.describe()"
   ]
  },
  {
   "cell_type": "code",
   "execution_count": 13,
   "id": "7c30b02c",
   "metadata": {},
   "outputs": [
    {
     "data": {
      "image/png": "[encoded data removed]",
      "text/plain": [
       "<Figure size 720x288 with 1 Axes>"
      ]
     },
     "metadata": {
      "needs_background": "light"
     },
     "output_type": "display_data"
    }
   ],
   "source": [
    "# Visualize distributions\n",
    "plt.figure(figsize=(10, 4))\n",
    "sns.set_style('darkgrid')\n",
    "sns.histplot(df['context_length'], bins=30)\n",
    "plt.title(\"Tokens in Context\")\n",
    "plt.show()\n"
   ]
  },
  {
   "cell_type": "code",
   "execution_count": 14,
   "id": "6aeeec5a",
   "metadata": {},
   "outputs": [
    {
     "data": {
      "image/png": "[encoded data removed]",
      "text/plain": [
       "<Figure size 720x288 with 1 Axes>"
      ]
     },
     "metadata": {},
     "output_type": "display_data"
    }
   ],
   "source": [
    "plt.figure(figsize=(10, 4))\n",
    "sns.set_style('darkgrid')\n",
    "sns.histplot(df['question_length'], bins=30)\n",
    "plt.title(\"Tokens in Question\")\n",
    "plt.show()"
   ]
  },
  {
   "cell_type": "code",
   "execution_count": 15,
   "id": "3421adfe",
   "metadata": {},
   "outputs": [
    {
     "data": {
      "image/png": "[encoded data removed]",
      "text/plain": [
       "<Figure size 720x288 with 1 Axes>"
      ]
     },
     "metadata": {},
     "output_type": "display_data"
    }
   ],
   "source": [
    "plt.figure(figsize=(10, 4))\n",
    "sns.set_style('darkgrid')\n",
    "sns.histplot(df['overlap'], bins=20)\n",
    "plt.title(\"Context-Question Overlap\")\n",
    "plt.show()"
   ]
  }
 ],
 "metadata": {
  "kernelspec": {
   "display_name": "learn-env",
   "language": "python",
   "name": "python3"
  },
  "language_info": {
   "codemirror_mode": {
    "name": "ipython",
    "version": 3
   },
   "file_extension": ".py",
   "mimetype": "text/x-python",
   "name": "python",
   "nbconvert_exporter": "python",
   "pygments_lexer": "ipython3",
   "version": "3.8.5"
  }
 },
 "nbformat": 4,
 "nbformat_minor": 5
}
